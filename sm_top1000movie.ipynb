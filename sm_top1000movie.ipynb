{
 "cells": [
  {
   "cell_type": "code",
   "execution_count": null,
   "id": "dd1c3b48",
   "metadata": {},
   "outputs": [],
   "source": [
    "import pandas as pd\n",
    "import numpy as np"
   ]
  },
  {
   "cell_type": "code",
   "execution_count": null,
   "id": "527f2587",
   "metadata": {},
   "outputs": [],
   "source": [
    "file = '../Mango5/imdb_top_1000.csv'"
   ]
  },
  {
   "cell_type": "code",
   "execution_count": null,
   "id": "8a3d88e5",
   "metadata": {},
   "outputs": [],
   "source": [
    "topmovies_df = pd.read_csv(file, encoding = \"ISO-8859-1\")"
   ]
  },
  {
   "cell_type": "code",
   "execution_count": null,
   "id": "2cf0eefd",
   "metadata": {},
   "outputs": [],
   "source": [
    "genre_topmovies_df=topmovies_df[[\"Genre\", \"IMDB_Rating\"]]\n",
    "result_genre = genre_topmovies_df.set_index('IMDB_Rating').apply(lambda col:\n",
    "    col.str.split(', ?', expand=True).stack())\\\n",
    "    .droplevel(1).reset_index().fillna('')\n",
    "genre_values=result_genre[\"Genre\"].value_counts()\n",
    "genre_values_sorted = genre_values.sort_index(axis=0, ascending=True).to_frame()\n",
    "genre_values_sorted"
   ]
  },
  {
   "cell_type": "code",
   "execution_count": null,
   "id": "4b9d8a51",
   "metadata": {},
   "outputs": [],
   "source": [
    "topmovies_df['star_df'] = topmovies_df['Star1'] + \",\" + topmovies_df['Star2'] + \",\" + topmovies_df['Star3'] + \",\" + topmovies_df['Star4']\n",
    "star_topmovies_df = topmovies_df[[\"star_df\", \"IMDB_Rating\"]]\n",
    "result_star = star_topmovies_df.set_index('IMDB_Rating').apply(lambda col:\n",
    "    col.str.split(', ?', expand=True).stack())\\\n",
    "    .droplevel(1).reset_index().fillna('')\n",
    "star_values=result_star[\"star_df\"].value_counts().to_frame()\n",
    "star_values"
   ]
  },
  {
   "cell_type": "code",
   "execution_count": null,
   "id": "afbbbb96",
   "metadata": {},
   "outputs": [],
   "source": [
    "director_df = topmovies_df['Director'].value_counts().to_frame()\n",
    "director_df"
   ]
  },
  {
   "cell_type": "code",
   "execution_count": null,
   "id": "2d8831d8",
   "metadata": {},
   "outputs": [],
   "source": []
  }
 ],
 "metadata": {
  "kernelspec": {
   "display_name": "Python 3",
   "language": "python",
   "name": "python3"
  },
  "language_info": {
   "codemirror_mode": {
    "name": "ipython",
    "version": 3
   },
   "file_extension": ".py",
   "mimetype": "text/x-python",
   "name": "python",
   "nbconvert_exporter": "python",
   "pygments_lexer": "ipython3",
   "version": "3.8.8"
  }
 },
 "nbformat": 4,
 "nbformat_minor": 5
}
