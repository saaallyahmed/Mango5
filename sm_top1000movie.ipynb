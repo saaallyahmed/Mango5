{
 "cells": [
  {
   "cell_type": "code",
   "execution_count": 60,
   "id": "dd1c3b48",
   "metadata": {},
   "outputs": [],
   "source": [
    "import pandas as pd"
   ]
  },
  {
   "cell_type": "code",
   "execution_count": 61,
   "id": "527f2587",
   "metadata": {},
   "outputs": [],
   "source": [
    "file = '../Mango5/imdb_top_1000.csv'"
   ]
  },
  {
   "cell_type": "code",
   "execution_count": 62,
   "id": "8a3d88e5",
   "metadata": {},
   "outputs": [
    {
     "data": {
      "text/html": [
       "<div>\n",
       "<style scoped>\n",
       "    .dataframe tbody tr th:only-of-type {\n",
       "        vertical-align: middle;\n",
       "    }\n",
       "\n",
       "    .dataframe tbody tr th {\n",
       "        vertical-align: top;\n",
       "    }\n",
       "\n",
       "    .dataframe thead th {\n",
       "        text-align: right;\n",
       "    }\n",
       "</style>\n",
       "<table border=\"1\" class=\"dataframe\">\n",
       "  <thead>\n",
       "    <tr style=\"text-align: right;\">\n",
       "      <th></th>\n",
       "      <th>Poster_Link</th>\n",
       "      <th>Series_Title</th>\n",
       "      <th>Released_Year</th>\n",
       "      <th>Certificate</th>\n",
       "      <th>Runtime</th>\n",
       "      <th>Genre</th>\n",
       "      <th>IMDB_Rating</th>\n",
       "      <th>Overview</th>\n",
       "      <th>Meta_score</th>\n",
       "      <th>Director</th>\n",
       "      <th>Star1</th>\n",
       "      <th>Star2</th>\n",
       "      <th>Star3</th>\n",
       "      <th>Star4</th>\n",
       "      <th>No_of_Votes</th>\n",
       "      <th>Gross</th>\n",
       "    </tr>\n",
       "  </thead>\n",
       "  <tbody>\n",
       "    <tr>\n",
       "      <th>0</th>\n",
       "      <td>https://m.media-amazon.com/images/M/MV5BMDFkYT...</td>\n",
       "      <td>The Shawshank Redemption</td>\n",
       "      <td>1994</td>\n",
       "      <td>A</td>\n",
       "      <td>142 min</td>\n",
       "      <td>Drama</td>\n",
       "      <td>9.3</td>\n",
       "      <td>Two imprisoned men bond over a number of years...</td>\n",
       "      <td>80.0</td>\n",
       "      <td>Frank Darabont</td>\n",
       "      <td>Tim Robbins</td>\n",
       "      <td>Morgan Freeman</td>\n",
       "      <td>Bob Gunton</td>\n",
       "      <td>William Sadler</td>\n",
       "      <td>2343110</td>\n",
       "      <td>28,341,469</td>\n",
       "    </tr>\n",
       "    <tr>\n",
       "      <th>1</th>\n",
       "      <td>https://m.media-amazon.com/images/M/MV5BM2MyNj...</td>\n",
       "      <td>The Godfather</td>\n",
       "      <td>1972</td>\n",
       "      <td>A</td>\n",
       "      <td>175 min</td>\n",
       "      <td>Crime, Drama</td>\n",
       "      <td>9.2</td>\n",
       "      <td>An organized crime dynasty's aging patriarch t...</td>\n",
       "      <td>100.0</td>\n",
       "      <td>Francis Ford Coppola</td>\n",
       "      <td>Marlon Brando</td>\n",
       "      <td>Al Pacino</td>\n",
       "      <td>James Caan</td>\n",
       "      <td>Diane Keaton</td>\n",
       "      <td>1620367</td>\n",
       "      <td>134,966,411</td>\n",
       "    </tr>\n",
       "    <tr>\n",
       "      <th>2</th>\n",
       "      <td>https://m.media-amazon.com/images/M/MV5BMTMxNT...</td>\n",
       "      <td>The Dark Knight</td>\n",
       "      <td>2008</td>\n",
       "      <td>UA</td>\n",
       "      <td>152 min</td>\n",
       "      <td>Action, Crime, Drama</td>\n",
       "      <td>9.0</td>\n",
       "      <td>When the menace known as the Joker wreaks havo...</td>\n",
       "      <td>84.0</td>\n",
       "      <td>Christopher Nolan</td>\n",
       "      <td>Christian Bale</td>\n",
       "      <td>Heath Ledger</td>\n",
       "      <td>Aaron Eckhart</td>\n",
       "      <td>Michael Caine</td>\n",
       "      <td>2303232</td>\n",
       "      <td>534,858,444</td>\n",
       "    </tr>\n",
       "    <tr>\n",
       "      <th>3</th>\n",
       "      <td>https://m.media-amazon.com/images/M/MV5BMWMwMG...</td>\n",
       "      <td>The Godfather: Part II</td>\n",
       "      <td>1974</td>\n",
       "      <td>A</td>\n",
       "      <td>202 min</td>\n",
       "      <td>Crime, Drama</td>\n",
       "      <td>9.0</td>\n",
       "      <td>The early life and career of Vito Corleone in ...</td>\n",
       "      <td>90.0</td>\n",
       "      <td>Francis Ford Coppola</td>\n",
       "      <td>Al Pacino</td>\n",
       "      <td>Robert De Niro</td>\n",
       "      <td>Robert Duvall</td>\n",
       "      <td>Diane Keaton</td>\n",
       "      <td>1129952</td>\n",
       "      <td>57,300,000</td>\n",
       "    </tr>\n",
       "    <tr>\n",
       "      <th>4</th>\n",
       "      <td>https://m.media-amazon.com/images/M/MV5BMWU4N2...</td>\n",
       "      <td>12 Angry Men</td>\n",
       "      <td>1957</td>\n",
       "      <td>U</td>\n",
       "      <td>96 min</td>\n",
       "      <td>Crime, Drama</td>\n",
       "      <td>9.0</td>\n",
       "      <td>A jury holdout attempts to prevent a miscarria...</td>\n",
       "      <td>96.0</td>\n",
       "      <td>Sidney Lumet</td>\n",
       "      <td>Henry Fonda</td>\n",
       "      <td>Lee J. Cobb</td>\n",
       "      <td>Martin Balsam</td>\n",
       "      <td>John Fiedler</td>\n",
       "      <td>689845</td>\n",
       "      <td>4,360,000</td>\n",
       "    </tr>\n",
       "  </tbody>\n",
       "</table>\n",
       "</div>"
      ],
      "text/plain": [
       "                                         Poster_Link  \\\n",
       "0  https://m.media-amazon.com/images/M/MV5BMDFkYT...   \n",
       "1  https://m.media-amazon.com/images/M/MV5BM2MyNj...   \n",
       "2  https://m.media-amazon.com/images/M/MV5BMTMxNT...   \n",
       "3  https://m.media-amazon.com/images/M/MV5BMWMwMG...   \n",
       "4  https://m.media-amazon.com/images/M/MV5BMWU4N2...   \n",
       "\n",
       "               Series_Title Released_Year Certificate  Runtime  \\\n",
       "0  The Shawshank Redemption          1994           A  142 min   \n",
       "1             The Godfather          1972           A  175 min   \n",
       "2           The Dark Knight          2008          UA  152 min   \n",
       "3    The Godfather: Part II          1974           A  202 min   \n",
       "4              12 Angry Men          1957           U   96 min   \n",
       "\n",
       "                  Genre  IMDB_Rating  \\\n",
       "0                 Drama          9.3   \n",
       "1          Crime, Drama          9.2   \n",
       "2  Action, Crime, Drama          9.0   \n",
       "3          Crime, Drama          9.0   \n",
       "4          Crime, Drama          9.0   \n",
       "\n",
       "                                            Overview  Meta_score  \\\n",
       "0  Two imprisoned men bond over a number of years...        80.0   \n",
       "1  An organized crime dynasty's aging patriarch t...       100.0   \n",
       "2  When the menace known as the Joker wreaks havo...        84.0   \n",
       "3  The early life and career of Vito Corleone in ...        90.0   \n",
       "4  A jury holdout attempts to prevent a miscarria...        96.0   \n",
       "\n",
       "               Director           Star1           Star2          Star3  \\\n",
       "0        Frank Darabont     Tim Robbins  Morgan Freeman     Bob Gunton   \n",
       "1  Francis Ford Coppola   Marlon Brando       Al Pacino     James Caan   \n",
       "2     Christopher Nolan  Christian Bale    Heath Ledger  Aaron Eckhart   \n",
       "3  Francis Ford Coppola       Al Pacino  Robert De Niro  Robert Duvall   \n",
       "4          Sidney Lumet     Henry Fonda     Lee J. Cobb  Martin Balsam   \n",
       "\n",
       "            Star4  No_of_Votes        Gross  \n",
       "0  William Sadler      2343110   28,341,469  \n",
       "1    Diane Keaton      1620367  134,966,411  \n",
       "2   Michael Caine      2303232  534,858,444  \n",
       "3    Diane Keaton      1129952   57,300,000  \n",
       "4    John Fiedler       689845    4,360,000  "
      ]
     },
     "execution_count": 62,
     "metadata": {},
     "output_type": "execute_result"
    }
   ],
   "source": [
    "imdb_df = pd.read_csv(file, encoding = \"ISO-8859-1\")\n",
    "imdb_df.head()"
   ]
  },
  {
   "cell_type": "code",
   "execution_count": 76,
   "id": "4b9d8a51",
   "metadata": {},
   "outputs": [
    {
     "data": {
      "text/plain": [
       "Tom Hanks            12\n",
       "Robert De Niro       11\n",
       "Al Pacino            10\n",
       "Clint Eastwood       10\n",
       "Leonardo DiCaprio     9\n",
       "                     ..\n",
       "Groucho Marx          1\n",
       "Sam Worthington       1\n",
       "Emily Blunt           1\n",
       "Jared Leto            1\n",
       "Bajram Severdzan      1\n",
       "Name: 0, Length: 660, dtype: int64"
      ]
     },
     "execution_count": 76,
     "metadata": {},
     "output_type": "execute_result"
    }
   ],
   "source": [
    "imdb_df['star_df'] = imdb_df['Star1'] + \",\" + imdb_df['Star2'] + \",\" + imdb_df['Star3'] + \",\" + imdb_df['Star4']\n",
    "star_df = imdb_df['star_df']\n",
    "star_split_df = star_df.str.split(',', n=3, expand=True)\n",
    "star_split_df[0].value_counts()"
   ]
  },
  {
   "cell_type": "code",
   "execution_count": 77,
   "id": "d03a327b",
   "metadata": {},
   "outputs": [
    {
     "data": {
      "text/plain": [
       "Emma Watson        7\n",
       "Matt Damon         5\n",
       "Julie Delpy        4\n",
       "Chris Evans        4\n",
       "Ed Harris          4\n",
       "                  ..\n",
       "Keri Russell       1\n",
       "Regina King        1\n",
       "Mirai Shida        1\n",
       "Takashi Shimura    1\n",
       "Gene Kelly         1\n",
       "Name: 1, Length: 841, dtype: int64"
      ]
     },
     "execution_count": 77,
     "metadata": {},
     "output_type": "execute_result"
    }
   ],
   "source": [
    "star_split_df[1].value_counts()"
   ]
  },
  {
   "cell_type": "code",
   "execution_count": 78,
   "id": "b8b589e3",
   "metadata": {},
   "outputs": [
    {
     "data": {
      "text/plain": [
       "Rupert Grint            5\n",
       "Carrie Fisher           4\n",
       "Rachel McAdams          4\n",
       "Jennifer Connelly       4\n",
       "Joe Pesci               4\n",
       "                       ..\n",
       "Halina Gryglaszewska    1\n",
       "Cate Blanchett          1\n",
       "Nikolay Grinko          1\n",
       "Honor Blackman          1\n",
       "Gene Kelly              1\n",
       "Name: 2, Length: 891, dtype: int64"
      ]
     },
     "execution_count": 78,
     "metadata": {},
     "output_type": "execute_result"
    }
   ],
   "source": [
    "star_split_df[2].value_counts()"
   ]
  },
  {
   "cell_type": "code",
   "execution_count": 79,
   "id": "aae4ebff",
   "metadata": {},
   "outputs": [
    {
     "data": {
      "text/plain": [
       "Michael Caine       4\n",
       "Mark Ruffalo        3\n",
       "Catherine Keener    3\n",
       "Diane Keaton        2\n",
       "Takashi Shimura     2\n",
       "                   ..\n",
       "Paul Giamatti       1\n",
       "Safak Sezer         1\n",
       "Vladas Bagdonas     1\n",
       "Dominique Pinon     1\n",
       "Erwin Connelly      1\n",
       "Name: 3, Length: 939, dtype: int64"
      ]
     },
     "execution_count": 79,
     "metadata": {},
     "output_type": "execute_result"
    }
   ],
   "source": [
    "star_split_df[3].value_counts()"
   ]
  },
  {
   "cell_type": "code",
   "execution_count": 80,
   "id": "afbbbb96",
   "metadata": {},
   "outputs": [
    {
     "data": {
      "text/plain": [
       "Alfred Hitchcock     14\n",
       "Steven Spielberg     13\n",
       "Hayao Miyazaki       11\n",
       "Martin Scorsese      10\n",
       "Akira Kurosawa       10\n",
       "                     ..\n",
       "Marc Caro             1\n",
       "Mamoru Oshii          1\n",
       "George Sluizer        1\n",
       "Rajkumar Santoshi     1\n",
       "John Singleton        1\n",
       "Name: Director, Length: 548, dtype: int64"
      ]
     },
     "execution_count": 80,
     "metadata": {},
     "output_type": "execute_result"
    }
   ],
   "source": [
    "director_df = imdb_df['Director'].value_counts()\n",
    "director_df"
   ]
  },
  {
   "cell_type": "code",
   "execution_count": 68,
   "id": "10cca0e0",
   "metadata": {},
   "outputs": [
    {
     "data": {
      "text/plain": [
       "Drama        289\n",
       "Action       172\n",
       "Comedy       155\n",
       "Crime        107\n",
       "Biography     88\n",
       "Animation     82\n",
       "Adventure     72\n",
       "Mystery       12\n",
       "Horror        11\n",
       "Western        4\n",
       "Film-Noir      3\n",
       "Fantasy        2\n",
       "Family         2\n",
       "Thriller       1\n",
       "Name: 0, dtype: int64"
      ]
     },
     "execution_count": 68,
     "metadata": {},
     "output_type": "execute_result"
    }
   ],
   "source": [
    "genre_df = imdb_df['Genre']\n",
    "genre_split_df = genre_df.str.split(',', n=2, expand=True)\n",
    "genre_split_df[0].value_counts()"
   ]
  },
  {
   "cell_type": "code",
   "execution_count": 69,
   "id": "beb50e40",
   "metadata": {},
   "outputs": [
    {
     "data": {
      "text/plain": [
       " Drama        320\n",
       " Adventure    113\n",
       " Crime         84\n",
       " Romance       53\n",
       " Comedy        43\n",
       " Mystery       41\n",
       " Thriller      37\n",
       " Family        26\n",
       " Sci-Fi        23\n",
       " Music         21\n",
       " Biography     20\n",
       " War           18\n",
       " History       18\n",
       " Horror        18\n",
       " Fantasy       18\n",
       " Action        17\n",
       " Film-Noir     10\n",
       " Sport          6\n",
       " Western        6\n",
       " Musical        3\n",
       "Name: 1, dtype: int64"
      ]
     },
     "execution_count": 69,
     "metadata": {},
     "output_type": "execute_result"
    }
   ],
   "source": [
    "genre_split_df[1].value_counts()"
   ]
  },
  {
   "cell_type": "code",
   "execution_count": 70,
   "id": "65e4910b",
   "metadata": {},
   "outputs": [
    {
     "data": {
      "text/plain": [
       " Drama        115\n",
       " Thriller      99\n",
       " Romance       72\n",
       " Mystery       46\n",
       " Fantasy       46\n",
       " Sci-Fi        44\n",
       " History       38\n",
       " Comedy        35\n",
       " War           33\n",
       " Family        28\n",
       " Crime         18\n",
       " Musical       14\n",
       " Music         14\n",
       " Sport         13\n",
       " Adventure     11\n",
       " Western       10\n",
       " Film-Noir      6\n",
       " Horror         3\n",
       " Biography      1\n",
       "Name: 2, dtype: int64"
      ]
     },
     "execution_count": 70,
     "metadata": {},
     "output_type": "execute_result"
    }
   ],
   "source": [
    "genre_split_df[2].value_counts()"
   ]
  },
  {
   "cell_type": "code",
   "execution_count": null,
   "id": "a2d38885",
   "metadata": {},
   "outputs": [],
   "source": []
  }
 ],
 "metadata": {
  "kernelspec": {
   "display_name": "Python 3",
   "language": "python",
   "name": "python3"
  },
  "language_info": {
   "codemirror_mode": {
    "name": "ipython",
    "version": 3
   },
   "file_extension": ".py",
   "mimetype": "text/x-python",
   "name": "python",
   "nbconvert_exporter": "python",
   "pygments_lexer": "ipython3",
   "version": "3.8.8"
  }
 },
 "nbformat": 4,
 "nbformat_minor": 5
}
