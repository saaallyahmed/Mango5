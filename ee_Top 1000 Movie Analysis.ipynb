{
 "cells": [
  {
   "cell_type": "code",
   "execution_count": 1,
   "id": "f52d8239",
   "metadata": {},
   "outputs": [],
   "source": [
    "import pandas as pd\n",
    "%matplotlib notebook\n",
    "import matplotlib.pyplot as plt\n",
    "import numpy as np\n",
    "import random\n",
    "import scipy.stats as st\n",
    "import sklearn.datasets as dta\n",
    "# Dependencies\n",
    "import json\n",
    "import requests\n"
   ]
  },
  {
   "cell_type": "code",
   "execution_count": 2,
   "id": "32e2dbcb",
   "metadata": {},
   "outputs": [],
   "source": [
    "csv_path = \"archive/imdb_top_1000.csv\"\n",
    "\n",
    "# Import the CSV into a pandas DataFrame\n",
    "topmovies_df = pd.read_csv(csv_path, low_memory=False)\n"
   ]
  },
  {
   "cell_type": "code",
   "execution_count": null,
   "id": "b98dedcc",
   "metadata": {},
   "outputs": [],
   "source": [
    "#drop null rows\n",
    "#no_null_topmovies_df = topmovies_df.dropna(how='any')\n",
    "#no_null_topmovies_df.count()"
   ]
  },
  {
   "cell_type": "code",
   "execution_count": 32,
   "id": "456a3cec",
   "metadata": {},
   "outputs": [
    {
     "data": {
      "text/html": [
       "<div>\n",
       "<style scoped>\n",
       "    .dataframe tbody tr th:only-of-type {\n",
       "        vertical-align: middle;\n",
       "    }\n",
       "\n",
       "    .dataframe tbody tr th {\n",
       "        vertical-align: top;\n",
       "    }\n",
       "\n",
       "    .dataframe thead th {\n",
       "        text-align: right;\n",
       "    }\n",
       "</style>\n",
       "<table border=\"1\" class=\"dataframe\">\n",
       "  <thead>\n",
       "    <tr style=\"text-align: right;\">\n",
       "      <th></th>\n",
       "      <th>Genre</th>\n",
       "      <th>IMDB_Rating</th>\n",
       "    </tr>\n",
       "  </thead>\n",
       "  <tbody>\n",
       "    <tr>\n",
       "      <th>0</th>\n",
       "      <td>Drama</td>\n",
       "      <td>9.3</td>\n",
       "    </tr>\n",
       "    <tr>\n",
       "      <th>1</th>\n",
       "      <td>Crime, Drama</td>\n",
       "      <td>9.2</td>\n",
       "    </tr>\n",
       "    <tr>\n",
       "      <th>2</th>\n",
       "      <td>Action, Crime, Drama</td>\n",
       "      <td>9.0</td>\n",
       "    </tr>\n",
       "    <tr>\n",
       "      <th>3</th>\n",
       "      <td>Crime, Drama</td>\n",
       "      <td>9.0</td>\n",
       "    </tr>\n",
       "    <tr>\n",
       "      <th>4</th>\n",
       "      <td>Crime, Drama</td>\n",
       "      <td>9.0</td>\n",
       "    </tr>\n",
       "  </tbody>\n",
       "</table>\n",
       "</div>"
      ],
      "text/plain": [
       "                  Genre  IMDB_Rating\n",
       "0                 Drama          9.3\n",
       "1          Crime, Drama          9.2\n",
       "2  Action, Crime, Drama          9.0\n",
       "3          Crime, Drama          9.0\n",
       "4          Crime, Drama          9.0"
      ]
     },
     "execution_count": 32,
     "metadata": {},
     "output_type": "execute_result"
    }
   ],
   "source": [
    "cleaned_topmovies_df=topmovies_df[[\"Genre\", \"IMDB_Rating\"]]\n",
    "cleaned_topmovies_df.head()"
   ]
  },
  {
   "cell_type": "code",
   "execution_count": 8,
   "id": "878a5156",
   "metadata": {},
   "outputs": [
    {
     "data": {
      "text/plain": [
       "Drama                          85\n",
       "Drama, Romance                 37\n",
       "Comedy, Drama                  35\n",
       "Comedy, Drama, Romance         31\n",
       "Action, Crime, Drama           30\n",
       "                               ..\n",
       "Animation, Biography, Crime     1\n",
       "Drama, History, Music           1\n",
       "Drama, History, Mystery         1\n",
       "Horror, Mystery, Sci-Fi         1\n",
       "Animation, Drama, Romance       1\n",
       "Name: Genre, Length: 202, dtype: int64"
      ]
     },
     "execution_count": 8,
     "metadata": {},
     "output_type": "execute_result"
    }
   ],
   "source": [
    "genre_values=topmovies_df[\"Genre\"].value_counts()\n",
    "genre_values"
   ]
  },
  {
   "cell_type": "code",
   "execution_count": 4,
   "id": "7b995c6e",
   "metadata": {},
   "outputs": [
    {
     "data": {
      "text/plain": [
       "Genre           object\n",
       "IMDB_Rating    float64\n",
       "dtype: object"
      ]
     },
     "execution_count": 4,
     "metadata": {},
     "output_type": "execute_result"
    }
   ],
   "source": [
    "cleaned_topmovies_df.dtypes"
   ]
  },
  {
   "cell_type": "code",
   "execution_count": 15,
   "id": "44eee3e5",
   "metadata": {},
   "outputs": [
    {
     "data": {
      "text/plain": [
       "Series_Title    object\n",
       "Genre           object\n",
       "IMDB_Rating     object\n",
       "dtype: object"
      ]
     },
     "execution_count": 15,
     "metadata": {},
     "output_type": "execute_result"
    }
   ],
   "source": [
    "cleaned_topmovies_df.astype({'IMDB_Rating': 'str'}).dtypes"
   ]
  },
  {
   "cell_type": "code",
   "execution_count": 34,
   "id": "f87a81e5",
   "metadata": {},
   "outputs": [
    {
     "data": {
      "text/html": [
       "<div>\n",
       "<style scoped>\n",
       "    .dataframe tbody tr th:only-of-type {\n",
       "        vertical-align: middle;\n",
       "    }\n",
       "\n",
       "    .dataframe tbody tr th {\n",
       "        vertical-align: top;\n",
       "    }\n",
       "\n",
       "    .dataframe thead th {\n",
       "        text-align: right;\n",
       "    }\n",
       "</style>\n",
       "<table border=\"1\" class=\"dataframe\">\n",
       "  <thead>\n",
       "    <tr style=\"text-align: right;\">\n",
       "      <th></th>\n",
       "      <th>IMDB_Rating</th>\n",
       "      <th>Genre</th>\n",
       "    </tr>\n",
       "  </thead>\n",
       "  <tbody>\n",
       "    <tr>\n",
       "      <th>0</th>\n",
       "      <td>9.3</td>\n",
       "      <td>Drama</td>\n",
       "    </tr>\n",
       "    <tr>\n",
       "      <th>1</th>\n",
       "      <td>9.2</td>\n",
       "      <td>Crime</td>\n",
       "    </tr>\n",
       "    <tr>\n",
       "      <th>2</th>\n",
       "      <td>9.2</td>\n",
       "      <td>Drama</td>\n",
       "    </tr>\n",
       "    <tr>\n",
       "      <th>3</th>\n",
       "      <td>9.0</td>\n",
       "      <td>Action</td>\n",
       "    </tr>\n",
       "    <tr>\n",
       "      <th>4</th>\n",
       "      <td>9.0</td>\n",
       "      <td>Crime</td>\n",
       "    </tr>\n",
       "    <tr>\n",
       "      <th>...</th>\n",
       "      <td>...</td>\n",
       "      <td>...</td>\n",
       "    </tr>\n",
       "    <tr>\n",
       "      <th>2536</th>\n",
       "      <td>7.6</td>\n",
       "      <td>Drama</td>\n",
       "    </tr>\n",
       "    <tr>\n",
       "      <th>2537</th>\n",
       "      <td>7.6</td>\n",
       "      <td>War</td>\n",
       "    </tr>\n",
       "    <tr>\n",
       "      <th>2538</th>\n",
       "      <td>7.6</td>\n",
       "      <td>Crime</td>\n",
       "    </tr>\n",
       "    <tr>\n",
       "      <th>2539</th>\n",
       "      <td>7.6</td>\n",
       "      <td>Mystery</td>\n",
       "    </tr>\n",
       "    <tr>\n",
       "      <th>2540</th>\n",
       "      <td>7.6</td>\n",
       "      <td>Thriller</td>\n",
       "    </tr>\n",
       "  </tbody>\n",
       "</table>\n",
       "<p>2541 rows × 2 columns</p>\n",
       "</div>"
      ],
      "text/plain": [
       "      IMDB_Rating     Genre\n",
       "0             9.3     Drama\n",
       "1             9.2     Crime\n",
       "2             9.2     Drama\n",
       "3             9.0    Action\n",
       "4             9.0     Crime\n",
       "...           ...       ...\n",
       "2536          7.6     Drama\n",
       "2537          7.6       War\n",
       "2538          7.6     Crime\n",
       "2539          7.6   Mystery\n",
       "2540          7.6  Thriller\n",
       "\n",
       "[2541 rows x 2 columns]"
      ]
     },
     "execution_count": 34,
     "metadata": {},
     "output_type": "execute_result"
    }
   ],
   "source": [
    "result = cleaned_topmovies_df.set_index('IMDB_Rating').apply(lambda col:\n",
    "    col.str.split(', ?', expand=True).stack())\\\n",
    "    .droplevel(1).reset_index().fillna('')\n",
    "\n",
    "result"
   ]
  },
  {
   "cell_type": "code",
   "execution_count": 50,
   "id": "e5131888",
   "metadata": {},
   "outputs": [
    {
     "data": {
      "text/plain": [
       "Drama        724\n",
       "Comedy       233\n",
       "Crime        209\n",
       "Adventure    196\n",
       "Action       189\n",
       "Thriller     137\n",
       "Romance      125\n",
       "Biography    109\n",
       "Mystery       99\n",
       "Animation     82\n",
       "Sci-Fi        67\n",
       "Fantasy       66\n",
       "Family        56\n",
       "History       56\n",
       "War           51\n",
       "Music         35\n",
       "Horror        32\n",
       "Western       20\n",
       "Sport         19\n",
       "Film-Noir     19\n",
       "Musical       17\n",
       "Name: Genre, dtype: int64"
      ]
     },
     "execution_count": 50,
     "metadata": {},
     "output_type": "execute_result"
    }
   ],
   "source": [
    "genre_values=result[\"Genre\"].value_counts()\n",
    "genre_values"
   ]
  },
  {
   "cell_type": "code",
   "execution_count": null,
   "id": "0cea8c87",
   "metadata": {},
   "outputs": [],
   "source": []
  },
  {
   "cell_type": "code",
   "execution_count": 48,
   "id": "56095c4e",
   "metadata": {},
   "outputs": [
    {
     "data": {
      "text/plain": [
       "Genre\n",
       "Action       1502.3\n",
       "Adventure    1558.6\n",
       "Animation     650.3\n",
       "Biography     865.0\n",
       "Comedy       1841.5\n",
       "Crime        1662.5\n",
       "Drama        5762.6\n",
       "Family        443.1\n",
       "Fantasy       523.5\n",
       "Film-Noir     151.8\n",
       "History       445.4\n",
       "Horror        252.4\n",
       "Music         277.0\n",
       "Musical       135.1\n",
       "Mystery       788.8\n",
       "Romance       990.7\n",
       "Sci-Fi        534.5\n",
       "Sport         150.6\n",
       "Thriller     1083.6\n",
       "War           408.7\n",
       "Western       160.0\n",
       "Name: IMDB_Rating, dtype: float64"
      ]
     },
     "execution_count": 48,
     "metadata": {},
     "output_type": "execute_result"
    }
   ],
   "source": [
    "grouped_genre_values = result.groupby(\"Genre\")[\"IMDB_Rating\"].sum()\n",
    "grouped_genre_values"
   ]
  },
  {
   "cell_type": "code",
   "execution_count": null,
   "id": "661ccab0",
   "metadata": {},
   "outputs": [],
   "source": []
  },
  {
   "cell_type": "code",
   "execution_count": 27,
   "id": "67996d3c",
   "metadata": {},
   "outputs": [],
   "source": [
    "#Calculate the number of unique genre in the DataFrame\n",
    "genre_count=topmovies_df[\"Genre\"]\n",
    "# Calculate the earliest/latest year a movie was released\n",
    "earliest_year = topmovies_df[\"Released_Year\"].min()\n",
    "latest_year = topmovies_df[\"Released_Year\"].max()\n",
    "\n",
    "#Calculate the total reviews for the entire dataset\n",
    "# Hint: use the pandas' sum() method to get the sum for each row\n",
    "topmovies_df['Total Reviews'] = topmovies_df.iloc[:, [6]].sum(axis=1)\n",
    "total_reviews = sum(topmovies_df['Total Reviews'])"
   ]
  },
  {
   "cell_type": "code",
   "execution_count": 29,
   "id": "5f79cf5b",
   "metadata": {},
   "outputs": [
    {
     "data": {
      "text/html": [
       "<div>\n",
       "<style scoped>\n",
       "    .dataframe tbody tr th:only-of-type {\n",
       "        vertical-align: middle;\n",
       "    }\n",
       "\n",
       "    .dataframe tbody tr th {\n",
       "        vertical-align: top;\n",
       "    }\n",
       "\n",
       "    .dataframe thead th {\n",
       "        text-align: right;\n",
       "    }\n",
       "</style>\n",
       "<table border=\"1\" class=\"dataframe\">\n",
       "  <thead>\n",
       "    <tr style=\"text-align: right;\">\n",
       "      <th></th>\n",
       "      <th>Total Unique Authors</th>\n",
       "      <th>Earliest Year</th>\n",
       "      <th>Latest Year</th>\n",
       "      <th>Total Reviews</th>\n",
       "    </tr>\n",
       "  </thead>\n",
       "  <tbody>\n",
       "    <tr>\n",
       "      <th>0</th>\n",
       "      <td>0                         Drama\n",
       "1             ...</td>\n",
       "      <td>1920</td>\n",
       "      <td>PG</td>\n",
       "      <td>7949.3</td>\n",
       "    </tr>\n",
       "  </tbody>\n",
       "</table>\n",
       "</div>"
      ],
      "text/plain": [
       "                                Total Unique Authors Earliest Year  \\\n",
       "0  0                         Drama\n",
       "1             ...          1920   \n",
       "\n",
       "  Latest Year  Total Reviews  \n",
       "0          PG         7949.3  "
      ]
     },
     "execution_count": 29,
     "metadata": {},
     "output_type": "execute_result"
    }
   ],
   "source": [
    "#Place all of the data found into a summary DataFrame\n",
    "summary_df = pd.DataFrame({\"Total Unique Authors\": [genre_count],\n",
    "                             \"Earliest Year\": earliest_year,\n",
    "                             \"Latest Year\": latest_year,\n",
    "                             \"Total Reviews\": total_reviews})\n",
    "summary_df"
   ]
  },
  {
   "cell_type": "code",
   "execution_count": null,
   "id": "29c81e2a",
   "metadata": {},
   "outputs": [],
   "source": []
  }
 ],
 "metadata": {
  "kernelspec": {
   "display_name": "Python 3",
   "language": "python",
   "name": "python3"
  },
  "language_info": {
   "codemirror_mode": {
    "name": "ipython",
    "version": 3
   },
   "file_extension": ".py",
   "mimetype": "text/x-python",
   "name": "python",
   "nbconvert_exporter": "python",
   "pygments_lexer": "ipython3",
   "version": "3.8.8"
  }
 },
 "nbformat": 4,
 "nbformat_minor": 5
}
